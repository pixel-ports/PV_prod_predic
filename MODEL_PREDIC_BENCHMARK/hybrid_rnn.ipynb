{
 "cells": [
  {
   "cell_type": "code",
   "execution_count": 55,
   "metadata": {},
   "outputs": [],
   "source": [
    "import numpy as np \n",
    "import pandas as pd\n",
    "\n",
    "import matplotlib.pyplot as plt\n",
    "%matplotlib inline\n",
    "\n",
    "import random\n",
    "from torch.utils.data import Dataset,sampler,DataLoader\n",
    "import torch\n",
    "import torch.nn as nn\n",
    "from tqdm import tqdm\n",
    "\n",
    "from torch.autograd import Variable\n",
    "from sklearn.preprocessing import MinMaxScaler\n",
    "from sklearn.preprocessing import LabelEncoder"
   ]
  },
  {
   "cell_type": "code",
   "execution_count": 56,
   "metadata": {},
   "outputs": [],
   "source": [
    "from data_functions import *\n",
    "from models import es_rnn,holt_winters_no_trend"
   ]
  },
  {
   "cell_type": "code",
   "execution_count": 75,
   "metadata": {},
   "outputs": [],
   "source": [
    "data = pd.read_pickle(\"aggreg_PRODUCTION_data.pkl\")\n",
    "data.Date = pd.to_datetime(data['Date'])\n",
    "data = data.sort_values(by='Date')\n",
    "data = data[data.Date > '2012-12-31']\n",
    "data=data.set_index('Date')\n",
    "data.Energy_Generated=pd.to_numeric(data.Energy_Generated)"
   ]
  },
  {
   "cell_type": "code",
   "execution_count": 76,
   "metadata": {},
   "outputs": [],
   "source": [
    "train_data = data[data.index < '2018-12-31']\n",
    "test_data =data[data.index > '2018-12-31']"
   ]
  },
  {
   "cell_type": "code",
   "execution_count": 79,
   "metadata": {},
   "outputs": [
    {
     "name": "stdout",
     "output_type": "stream",
     "text": [
      "[0.13441768 0.38489747 0.6370684  0.67410177 0.49414538 0.64361062\n",
      " 1.         0.83163516 0.718985   0.50741181 0.00512663 0.35208784\n",
      " 0.10723904 0.31294928 0.69259953 0.70727032 0.6978647  0.87368976\n",
      " 0.72442228 0.61825686 0.74042202 0.77167076 0.20789704 0.05542411\n",
      " 0.26061484 0.07652229 0.52764593 0.7625487  0.65509542 0.80131349\n",
      " 0.67347623 0.78892057 0.62918517 0.48148303 0.34168203 0.31789207\n",
      " 0.18566964 0.25691909 0.50321636 0.6235625  0.6842383  0.64662789\n",
      " 0.57175098 0.84901516 0.48724875 0.40339541 0.1632797  0.34543223\n",
      " 0.22769611 0.07776152 0.49487769 0.90990663 0.81370764 0.66578816\n",
      " 0.5479743  0.57315996 0.23623069 0.58379196 0.29823328 0.06553484\n",
      " 0.18114604 0.         0.47620457 0.63734618 0.5487066  0.49294805\n",
      " 0.78987535 0.69408052 0.6909483  0.2034303  0.18117261 0.12559729]\n"
     ]
    }
   ],
   "source": [
    "#daily_data_with_weather = train_data[['Condition','Min_Temperature','Max_Temperature','Energy_Generated']]\n",
    "daily_data_without_weather = train_data[['Energy_Generated']]\n",
    "weekly_data_mean = train_data.Energy_Generated.resample('W').mean().dropna()\n",
    "monthly_data_mean = train_data.Energy_Generated.resample('M').mean().dropna()\n",
    "# normalize features\n",
    "monthly_data_mean = monthly_data_mean.values.reshape(-1, 1) \n",
    "scaler = MinMaxScaler(feature_range=(0, 1))\n",
    "scaled = scaler.fit_transform(monthly_data_mean)\n",
    "scaled = scaled.flatten()\n",
    "print(scaled)\n",
    "series = scaled"
   ]
  },
  {
   "cell_type": "code",
   "execution_count": 80,
   "metadata": {},
   "outputs": [],
   "source": [
    "train=series[:-5]\n",
    "test=series"
   ]
  },
  {
   "cell_type": "code",
   "execution_count": 108,
   "metadata": {},
   "outputs": [],
   "source": [
    "sl=sequence_labeling_dataset(train,100,False)\n",
    "sl_t=sequence_labeling_dataset(test,100,False)\n",
    "\n",
    "train_dl= DataLoader(dataset=sl,\n",
    "                      batch_size=4,\n",
    "                      shuffle=False)\n",
    "\n",
    "test_dl= DataLoader(dataset=sl_t,\n",
    "                      batch_size=4,\n",
    "                      shuffle=False)"
   ]
  },
  {
   "cell_type": "code",
   "execution_count": 109,
   "metadata": {},
   "outputs": [],
   "source": [
    "hw=es_rnn()"
   ]
  },
  {
   "cell_type": "code",
   "execution_count": 110,
   "metadata": {},
   "outputs": [
    {
     "name": "stdout",
     "output_type": "stream",
     "text": [
      "<data_functions.sequence_labeling_dataset object at 0x7fd419773b00>\n"
     ]
    }
   ],
   "source": [
    "print(sl)"
   ]
  },
  {
   "cell_type": "code",
   "execution_count": 111,
   "metadata": {},
   "outputs": [],
   "source": [
    "opti = torch.optim.Adam(hw.parameters(), lr=0.01)#,weight_decay=0.0001"
   ]
  },
  {
   "cell_type": "code",
   "execution_count": 112,
   "metadata": {},
   "outputs": [
    {
     "name": "stdout",
     "output_type": "stream",
     "text": [
      "torch.Size([4, 60]) tensor([[0.1811, 0.0000, 0.4762, 0.6373, 0.5487, 0.4929, 0.7899, 0.6941, 0.6909,\n",
      "         0.2034, 0.1812, 0.1256],\n",
      "        [0.1811, 0.0000, 0.4762, 0.6373, 0.5487, 0.4929, 0.7899, 0.6941, 0.6909,\n",
      "         0.2034, 0.1812, 0.1256],\n",
      "        [0.1811, 0.0000, 0.4762, 0.6373, 0.5487, 0.4929, 0.7899, 0.6941, 0.6909,\n",
      "         0.2034, 0.1812, 0.1256],\n",
      "        [0.1811, 0.0000, 0.4762, 0.6373, 0.5487, 0.4929, 0.7899, 0.6941, 0.6909,\n",
      "         0.2034, 0.1812, 0.1256]])\n"
     ]
    },
    {
     "data": {
      "image/png": "[encoded data removed]",
      "text/plain": [
       "<Figure size 432x288 with 1 Axes>"
      ]
     },
     "metadata": {
      "needs_background": "light"
     },
     "output_type": "display_data"
    }
   ],
   "source": [
    "#Initial Prediction \n",
    "overall_loss=[]\n",
    "batch=next(iter(test_dl))\n",
    "inp=batch[0].float()#.unsqueeze(2)\n",
    "out=batch[1].float()#.unsqueeze(2).float()\n",
    "print(inp,out)\n",
    "shifts=batch[2].numpy()\n",
    "pred=hw(inp,shifts)\n",
    "plt.plot(torch.cat([inp[0],out[0,:]]).detach().numpy(),\"g\")\n",
    "plt.plot(torch.cat([inp[0],pred[0,:]]).detach().numpy(),\"r\")\n",
    "plt.show()"
   ]
  },
  {
   "cell_type": "code",
   "execution_count": 113,
   "metadata": {},
   "outputs": [
    {
     "name": "stdout",
     "output_type": "stream",
     "text": [
      "72\n"
     ]
    },
    {
     "data": {
      "text/plain": [
       "tensor(0.3080, grad_fn=<PowBackward0>)"
      ]
     },
     "execution_count": 113,
     "metadata": {},
     "output_type": "execute_result"
    }
   ],
   "source": [
    "print(len(series))\n",
    "#Initial Loss RMSE \n",
    "(torch.mean((pred-out)**2))**(1/2)"
   ]
  },
  {
   "cell_type": "code",
   "execution_count": 114,
   "metadata": {},
   "outputs": [
    {
     "data": {
      "text/plain": [
       "tensor(0.4355)"
      ]
     },
     "execution_count": 114,
     "metadata": {},
     "output_type": "execute_result"
    }
   ],
   "source": [
    "#Baseline Loss Predicting last value at each step\n",
    "(torch.mean((inp[0][-1]-out)**2))**(1/2)"
   ]
  },
  {
   "cell_type": "code",
   "execution_count": 115,
   "metadata": {},
   "outputs": [],
   "source": [
    "overall_loss_train=[]\n",
    "overall_loss=[]"
   ]
  },
  {
   "cell_type": "code",
   "execution_count": 116,
   "metadata": {},
   "outputs": [
    {
     "name": "stderr",
     "output_type": "stream",
     "text": [
      "  5%|▌         | 1/20 [02:07<40:28, 127.82s/it]"
     ]
    },
    {
     "name": "stdout",
     "output_type": "stream",
     "text": [
      "0.47767138\n",
      "0.003930198\n"
     ]
    },
    {
     "name": "stderr",
     "output_type": "stream",
     "text": [
      "\r",
      " 10%|█         | 2/20 [04:17<38:32, 128.49s/it]"
     ]
    },
    {
     "name": "stdout",
     "output_type": "stream",
     "text": [
      "0.4685169\n",
      "0.0018805912\n"
     ]
    },
    {
     "name": "stderr",
     "output_type": "stream",
     "text": [
      "\r",
      " 15%|█▌        | 3/20 [06:27<36:28, 128.75s/it]"
     ]
    },
    {
     "name": "stdout",
     "output_type": "stream",
     "text": [
      "0.46093497\n",
      "0.0015350694\n"
     ]
    },
    {
     "name": "stderr",
     "output_type": "stream",
     "text": [
      "\r",
      " 20%|██        | 4/20 [08:39<34:38, 129.88s/it]"
     ]
    },
    {
     "name": "stdout",
     "output_type": "stream",
     "text": [
      "0.45252198\n",
      "0.0012561014\n"
     ]
    },
    {
     "name": "stderr",
     "output_type": "stream",
     "text": [
      "\r",
      " 25%|██▌       | 5/20 [10:45<32:10, 128.67s/it]"
     ]
    },
    {
     "name": "stdout",
     "output_type": "stream",
     "text": [
      "0.4441182\n",
      "0.0010719151\n"
     ]
    },
    {
     "name": "stderr",
     "output_type": "stream",
     "text": [
      "\r",
      " 30%|███       | 6/20 [12:55<30:05, 129.00s/it]"
     ]
    },
    {
     "name": "stdout",
     "output_type": "stream",
     "text": [
      "0.43216226\n",
      "0.0009742615\n"
     ]
    },
    {
     "name": "stderr",
     "output_type": "stream",
     "text": [
      "\r",
      " 35%|███▌      | 7/20 [15:06<28:05, 129.67s/it]"
     ]
    },
    {
     "name": "stdout",
     "output_type": "stream",
     "text": [
      "0.4262\n",
      "0.00093382475\n"
     ]
    },
    {
     "name": "stderr",
     "output_type": "stream",
     "text": [
      "\r",
      " 40%|████      | 8/20 [17:14<25:51, 129.28s/it]"
     ]
    },
    {
     "name": "stdout",
     "output_type": "stream",
     "text": [
      "0.42325348\n",
      "0.00093048724\n"
     ]
    },
    {
     "name": "stderr",
     "output_type": "stream",
     "text": [
      "\r",
      " 45%|████▌     | 9/20 [19:22<23:35, 128.69s/it]"
     ]
    },
    {
     "name": "stdout",
     "output_type": "stream",
     "text": [
      "0.42184302\n",
      "0.0009148444\n"
     ]
    },
    {
     "name": "stderr",
     "output_type": "stream",
     "text": [
      "\r",
      " 50%|█████     | 10/20 [21:28<21:20, 128.02s/it]"
     ]
    },
    {
     "name": "stdout",
     "output_type": "stream",
     "text": [
      "0.41953295\n",
      "0.0009247997\n"
     ]
    },
    {
     "name": "stderr",
     "output_type": "stream",
     "text": [
      "\r",
      " 55%|█████▌    | 11/20 [23:36<19:11, 127.90s/it]"
     ]
    },
    {
     "name": "stdout",
     "output_type": "stream",
     "text": [
      "0.41858768\n",
      "0.0009227358\n"
     ]
    },
    {
     "name": "stderr",
     "output_type": "stream",
     "text": [
      "\r",
      " 60%|██████    | 12/20 [25:43<17:01, 127.75s/it]"
     ]
    },
    {
     "name": "stdout",
     "output_type": "stream",
     "text": [
      "0.41815898\n",
      "0.00090658944\n"
     ]
    },
    {
     "name": "stderr",
     "output_type": "stream",
     "text": [
      "\r",
      " 65%|██████▌   | 13/20 [27:50<14:51, 127.36s/it]"
     ]
    },
    {
     "name": "stdout",
     "output_type": "stream",
     "text": [
      "0.4175143\n",
      "0.0008598177\n"
     ]
    },
    {
     "name": "stderr",
     "output_type": "stream",
     "text": [
      "\r",
      " 70%|███████   | 14/20 [29:56<12:42, 127.16s/it]"
     ]
    },
    {
     "name": "stdout",
     "output_type": "stream",
     "text": [
      "0.41624218\n",
      "0.0008771754\n"
     ]
    },
    {
     "name": "stderr",
     "output_type": "stream",
     "text": [
      "\r",
      " 75%|███████▌  | 15/20 [32:03<10:34, 126.96s/it]"
     ]
    },
    {
     "name": "stdout",
     "output_type": "stream",
     "text": [
      "0.41731006\n",
      "0.0008695475\n"
     ]
    },
    {
     "name": "stderr",
     "output_type": "stream",
     "text": [
      "\r",
      " 80%|████████  | 16/20 [34:09<08:26, 126.74s/it]"
     ]
    },
    {
     "name": "stdout",
     "output_type": "stream",
     "text": [
      "0.41752794\n",
      "0.00085423625\n"
     ]
    },
    {
     "name": "stderr",
     "output_type": "stream",
     "text": [
      "\r",
      " 85%|████████▌ | 17/20 [36:17<06:21, 127.19s/it]"
     ]
    },
    {
     "name": "stdout",
     "output_type": "stream",
     "text": [
      "0.41690308\n",
      "0.00082647457\n"
     ]
    },
    {
     "name": "stderr",
     "output_type": "stream",
     "text": [
      "\r",
      " 90%|█████████ | 18/20 [38:25<04:14, 127.24s/it]"
     ]
    },
    {
     "name": "stdout",
     "output_type": "stream",
     "text": [
      "0.41678193\n",
      "0.0008919762\n"
     ]
    },
    {
     "name": "stderr",
     "output_type": "stream",
     "text": [
      "\r",
      " 95%|█████████▌| 19/20 [40:35<02:08, 128.05s/it]"
     ]
    },
    {
     "name": "stdout",
     "output_type": "stream",
     "text": [
      "0.4176666\n",
      "0.00082060526\n"
     ]
    },
    {
     "name": "stderr",
     "output_type": "stream",
     "text": [
      "100%|██████████| 20/20 [42:53<00:00, 128.70s/it]"
     ]
    },
    {
     "name": "stdout",
     "output_type": "stream",
     "text": [
      "0.4178632\n",
      "0.000867568\n"
     ]
    },
    {
     "name": "stderr",
     "output_type": "stream",
     "text": [
      "\n"
     ]
    }
   ],
   "source": [
    "for j in tqdm(range(20)):\n",
    "    loss_list_b=[]\n",
    "    train_loss_list_b=[]\n",
    "    #here we use batches of past, and to be forecasted value\n",
    "    #batches are determined by a random start integer\n",
    "    for batch in iter(train_dl):\n",
    "\n",
    "        opti.zero_grad()\n",
    "        inp=batch[0].float()#.unsqueeze(2)\n",
    "        out=batch[1].float()#.unsqueeze(2).float()\n",
    "        shifts=batch[2].numpy()\n",
    "        #it returns the whole sequence atm \n",
    "        pred=hw(inp,shifts)\n",
    "        loss=(torch.mean((pred-out)**2))**(1/2)\n",
    "        train_loss_list_b.append(loss.detach().cpu().numpy())\n",
    "        \n",
    "        loss.backward()\n",
    "        opti.step()\n",
    "\n",
    "\n",
    "    #here we use all the available values to forecast the future ones and eval on it\n",
    "    for batch in iter(test_dl):\n",
    "        inp=batch[0].float()#.unsqueeze(2)\n",
    "        out=batch[1].float()#.unsqueeze(2).float()\n",
    "        shifts=batch[2].numpy()\n",
    "        pred=hw(inp,shifts)\n",
    "        #loss=torch.mean(torch.abs(pred-out))\n",
    "        loss=(torch.mean((pred-out)**2))**(1/2)\n",
    "        loss_list_b.append(loss.detach().cpu().numpy())\n",
    "    \n",
    " \n",
    "    print(np.mean(loss_list_b))\n",
    "    print(np.mean(train_loss_list_b))\n",
    "    overall_loss.append(np.mean(loss_list_b))\n",
    "    overall_loss_train.append(np.mean(train_loss_list_b))"
   ]
  },
  {
   "cell_type": "code",
   "execution_count": 117,
   "metadata": {},
   "outputs": [
    {
     "data": {
      "text/plain": [
       "[<matplotlib.lines.Line2D at 0x7fd3ea1e6b00>]"
      ]
     },
     "execution_count": 117,
     "metadata": {},
     "output_type": "execute_result"
    },
    {
     "data": {
      "image/png": "[encoded data removed]",
      "text/plain": [
       "<Figure size 432x288 with 1 Axes>"
      ]
     },
     "metadata": {
      "needs_background": "light"
     },
     "output_type": "display_data"
    }
   ],
   "source": [
    "#Plot of Train and Validatiaon Loss, we nicely converge\n",
    "plt.plot(overall_loss,\"g\")\n",
    "plt.plot(overall_loss_train,\"r\")"
   ]
  },
  {
   "cell_type": "code",
   "execution_count": 118,
   "metadata": {},
   "outputs": [
    {
     "data": {
      "image/png": "[encoded data removed]",
      "text/plain": [
       "<Figure size 432x288 with 1 Axes>"
      ]
     },
     "metadata": {
      "needs_background": "light"
     },
     "output_type": "display_data"
    }
   ],
   "source": [
    "#Forecasting on the Validation set\n",
    "\n",
    "batch=next(iter(test_dl))\n",
    "inp=batch[0].float()#.unsqueeze(2)\n",
    "out=batch[1].float()#.unsqueeze(2).float()\n",
    "shifts=batch[2].numpy()\n",
    "pred=hw(torch.cat([inp,out],dim=1),shifts)\n",
    "\n",
    "#plt.plot(torch.cat([inp,out,pred],dim=1)[0].detach().numpy(),\"r\")\n",
    "\n",
    "\n",
    "plt.plot(torch.cat([inp[0],out[0,:]]).detach().numpy(),\"g\")\n",
    "plt.plot(torch.cat([inp[0],pred[0,:]]).detach().numpy(),\"r\")\n",
    "plt.show()"
   ]
  },
  {
   "cell_type": "code",
   "execution_count": 119,
   "metadata": {},
   "outputs": [
    {
     "data": {
      "image/png": "[encoded data removed]",
      "text/plain": [
       "<Figure size 432x288 with 1 Axes>"
      ]
     },
     "metadata": {
      "needs_background": "light"
     },
     "output_type": "display_data"
    }
   ],
   "source": [
    "#Forecasting to the Future looks good.\n",
    "\n",
    "batch=next(iter(test_dl))\n",
    "inp=batch[0].float()#.unsqueeze(2)\n",
    "out=batch[1].float()#.unsqueeze(2).float()\n",
    "shifts=batch[2].numpy()\n",
    "\n",
    "pred=hw(torch.cat([inp,out],dim=1),shifts)\n",
    "plt.plot(torch.cat([inp,out],dim=1)[0].detach().numpy(),\"b\")\n",
    "plt.plot(torch.cat([inp,out,pred],dim=1)[0].detach().numpy(),\"r\")\n",
    "\n",
    "\n",
    "plt.show()"
   ]
  },
  {
   "cell_type": "code",
   "execution_count": 120,
   "metadata": {},
   "outputs": [
    {
     "data": {
      "text/plain": [
       "array([0.5365787, 0.4887148], dtype=float32)"
      ]
     },
     "execution_count": 120,
     "metadata": {},
     "output_type": "execute_result"
    }
   ],
   "source": [
    "param_list=[]\n",
    "for params in hw.parameters():\n",
    "    param_list.append(params)\n",
    "param_list=torch.sigmoid(params[0:2]).detach().numpy()\n",
    "\n",
    "param_list"
   ]
  },
  {
   "cell_type": "code",
   "execution_count": null,
   "metadata": {
    "collapsed": true
   },
   "outputs": [],
   "source": []
  }
 ],
 "metadata": {
  "kernelspec": {
   "display_name": "Python 3",
   "language": "python",
   "name": "python3"
  },
  "language_info": {
   "codemirror_mode": {
    "name": "ipython",
    "version": 3
   },
   "file_extension": ".py",
   "mimetype": "text/x-python",
   "name": "python",
   "nbconvert_exporter": "python",
   "pygments_lexer": "ipython3",
   "version": "3.6.8"
  }
 },
 "nbformat": 4,
 "nbformat_minor": 2
}
